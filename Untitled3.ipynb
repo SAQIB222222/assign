{
 "cells": [
  {
   "cell_type": "code",
   "execution_count": 1,
   "id": "6398e01e-fc3d-4069-b8f1-91fda9d3010d",
   "metadata": {},
   "outputs": [],
   "source": [
    "d={}"
   ]
  },
  {
   "cell_type": "code",
   "execution_count": 2,
   "id": "a3f2aa1c-94fb-4b6a-b65d-0d94454e219e",
   "metadata": {},
   "outputs": [
    {
     "data": {
      "text/plain": [
       "dict"
      ]
     },
     "execution_count": 2,
     "metadata": {},
     "output_type": "execute_result"
    }
   ],
   "source": [
    "type(d)"
   ]
  },
  {
   "cell_type": "code",
   "execution_count": 3,
   "id": "55ca04b4-d91e-4219-9a20-a4421f1cba23",
   "metadata": {},
   "outputs": [],
   "source": [
    "d1={'key':\"sudh\"}"
   ]
  },
  {
   "cell_type": "code",
   "execution_count": 4,
   "id": "3d94c7d4-2955-48ca-a488-fb62fa4ff39c",
   "metadata": {},
   "outputs": [
    {
     "data": {
      "text/plain": [
       "{'key': 'sudh'}"
      ]
     },
     "execution_count": 4,
     "metadata": {},
     "output_type": "execute_result"
    }
   ],
   "source": [
    "d1"
   ]
  },
  {
   "cell_type": "code",
   "execution_count": 8,
   "id": "f82f2864-4701-48ee-9e85-892164763094",
   "metadata": {},
   "outputs": [],
   "source": [
    "d2={'name':'saqib','email':'saqibnajar888@gmail.com'}"
   ]
  },
  {
   "cell_type": "code",
   "execution_count": 9,
   "id": "a7604858-a0eb-49f1-8144-8ff78168519b",
   "metadata": {},
   "outputs": [
    {
     "data": {
      "text/plain": [
       "{'name': 'saqib', 'email': 'saqibnajar888@gmail.com'}"
      ]
     },
     "execution_count": 9,
     "metadata": {},
     "output_type": "execute_result"
    }
   ],
   "source": [
    "d2"
   ]
  },
  {
   "cell_type": "code",
   "execution_count": 12,
   "id": "ae365d25-be70-4d44-bb24-1496e9d9811e",
   "metadata": {},
   "outputs": [],
   "source": [
    "d3={234:'saqib','_we':\"kumar\",True:23434}"
   ]
  },
  {
   "cell_type": "code",
   "execution_count": 13,
   "id": "16bfc3ac-eee0-447d-a5b9-bc82f0584bb3",
   "metadata": {},
   "outputs": [
    {
     "data": {
      "text/plain": [
       "{234: 'saqib', '_we': 'kumar', True: 23434}"
      ]
     },
     "execution_count": 13,
     "metadata": {},
     "output_type": "execute_result"
    }
   ],
   "source": [
    "d3"
   ]
  },
  {
   "cell_type": "code",
   "execution_count": 15,
   "id": "5b0881b1-a544-418c-8c7b-fcc93be008b3",
   "metadata": {},
   "outputs": [
    {
     "data": {
      "text/plain": [
       "'saqib'"
      ]
     },
     "execution_count": 15,
     "metadata": {},
     "output_type": "execute_result"
    }
   ],
   "source": [
    "d3[234]"
   ]
  },
  {
   "cell_type": "code",
   "execution_count": 16,
   "id": "916765b7-37b0-4535-b508-1d747d893797",
   "metadata": {},
   "outputs": [
    {
     "data": {
      "text/plain": [
       "23434"
      ]
     },
     "execution_count": 16,
     "metadata": {},
     "output_type": "execute_result"
    }
   ],
   "source": [
    "d3[1]"
   ]
  },
  {
   "cell_type": "code",
   "execution_count": 17,
   "id": "8a1cfdf2-0428-4d58-a1c6-28940e8a36fe",
   "metadata": {},
   "outputs": [
    {
     "data": {
      "text/plain": [
       "23434"
      ]
     },
     "execution_count": 17,
     "metadata": {},
     "output_type": "execute_result"
    }
   ],
   "source": [
    "d3[True]"
   ]
  },
  {
   "cell_type": "code",
   "execution_count": 22,
   "id": "6582da16-8686-42e7-95d7-a1267ff45a7e",
   "metadata": {},
   "outputs": [],
   "source": [
    "d4={'name':'saqib','email':'saqib22@GMAIL.COM','name':'saqibkkk'}"
   ]
  },
  {
   "cell_type": "code",
   "execution_count": 23,
   "id": "2493b144-1884-41ff-b961-f08ed6953fe7",
   "metadata": {},
   "outputs": [
    {
     "data": {
      "text/plain": [
       "'saqibkkk'"
      ]
     },
     "execution_count": 23,
     "metadata": {},
     "output_type": "execute_result"
    }
   ],
   "source": [
    "d4['name']"
   ]
  },
  {
   "cell_type": "code",
   "execution_count": 29,
   "id": "a27386ba-ec6a-48b3-bd7e-233e6c0baa6a",
   "metadata": {},
   "outputs": [],
   "source": [
    "d5={'company':\"pwskill\",'courses':[\"web dev\",\"data science\",\"jawa with sd system design\"]}"
   ]
  },
  {
   "cell_type": "code",
   "execution_count": 30,
   "id": "31689b1a-206e-4ea1-802a-4def26fc97d6",
   "metadata": {},
   "outputs": [
    {
     "data": {
      "text/plain": [
       "{'company': 'pwskill',\n",
       " 'courses': ['web dev', 'data science', 'jawa with sd system design']}"
      ]
     },
     "execution_count": 30,
     "metadata": {},
     "output_type": "execute_result"
    }
   ],
   "source": [
    "d5"
   ]
  },
  {
   "cell_type": "code",
   "execution_count": 35,
   "id": "d0168a52-2f5d-400c-8ca6-d21da8cab7f8",
   "metadata": {},
   "outputs": [
    {
     "data": {
      "text/plain": [
       "['web dev', 'data science', 'jawa with sd system design']"
      ]
     },
     "execution_count": 35,
     "metadata": {},
     "output_type": "execute_result"
    }
   ],
   "source": [
    "d5['courses']"
   ]
  },
  {
   "cell_type": "code",
   "execution_count": 36,
   "id": "29bcdca0-7fc6-440a-8109-4bc1c5020751",
   "metadata": {},
   "outputs": [
    {
     "data": {
      "text/plain": [
       "'jawa with sd system design'"
      ]
     },
     "execution_count": 36,
     "metadata": {},
     "output_type": "execute_result"
    }
   ],
   "source": [
    "d5['courses'][2]"
   ]
  },
  {
   "cell_type": "code",
   "execution_count": 38,
   "id": "b2ed1bdb-9901-410e-84da-277fde3d419c",
   "metadata": {},
   "outputs": [],
   "source": [
    "d6={'number':[2,34,56,34],\"assig\":[1,2,3,4,5,6,7],\"launch_date\":{28,12,14},'class_time':{'web_dev':8,'data science master':8,\"java with dst and system design \":7}}"
   ]
  },
  {
   "cell_type": "code",
   "execution_count": 40,
   "id": "b38f003a-6401-48c7-986a-f880144963a0",
   "metadata": {},
   "outputs": [
    {
     "data": {
      "text/plain": [
       "{'number': [2, 34, 56, 34],\n",
       " 'assig': [1, 2, 3, 4, 5, 6, 7],\n",
       " 'launch_date': {12, 14, 28},\n",
       " 'class_time': {'web_dev': 8,\n",
       "  'data science master': 8,\n",
       "  'java with dst and system design ': 7}}"
      ]
     },
     "execution_count": 40,
     "metadata": {},
     "output_type": "execute_result"
    }
   ],
   "source": [
    "d6"
   ]
  },
  {
   "cell_type": "code",
   "execution_count": 47,
   "id": "1640ae7a-0793-4dca-9c75-8ae2b5f267fc",
   "metadata": {},
   "outputs": [
    {
     "data": {
      "text/plain": [
       "7"
      ]
     },
     "execution_count": 47,
     "metadata": {},
     "output_type": "execute_result"
    }
   ],
   "source": [
    "d6['class_time']['java with dst and system design ']"
   ]
  },
  {
   "cell_type": "code",
   "execution_count": 48,
   "id": "6ae51768-9bee-4828-9727-18d0567cb650",
   "metadata": {},
   "outputs": [],
   "source": [
    "d6['mentor']=['saqib','javid']"
   ]
  },
  {
   "cell_type": "code",
   "execution_count": 49,
   "id": "30776f94-cbb9-4789-a005-63c6acf96846",
   "metadata": {},
   "outputs": [
    {
     "data": {
      "text/plain": [
       "{'number': [2, 34, 56, 34],\n",
       " 'assig': [1, 2, 3, 4, 5, 6, 7],\n",
       " 'launch_date': {12, 14, 28},\n",
       " 'class_time': {'web_dev': 8,\n",
       "  'data science master': 8,\n",
       "  'java with dst and system design ': 7},\n",
       " 'mentor': ['saqib', 'javid']}"
      ]
     },
     "execution_count": 49,
     "metadata": {},
     "output_type": "execute_result"
    }
   ],
   "source": [
    "d6"
   ]
  },
  {
   "cell_type": "code",
   "execution_count": 50,
   "id": "3a440b23-2a22-4fd0-8013-6123eaeca066",
   "metadata": {},
   "outputs": [],
   "source": [
    "del d6['number']"
   ]
  },
  {
   "cell_type": "code",
   "execution_count": 51,
   "id": "ee0c3718-0d03-4339-88f1-dc1c84179287",
   "metadata": {},
   "outputs": [
    {
     "data": {
      "text/plain": [
       "{'assig': [1, 2, 3, 4, 5, 6, 7],\n",
       " 'launch_date': {12, 14, 28},\n",
       " 'class_time': {'web_dev': 8,\n",
       "  'data science master': 8,\n",
       "  'java with dst and system design ': 7},\n",
       " 'mentor': ['saqib', 'javid']}"
      ]
     },
     "execution_count": 51,
     "metadata": {},
     "output_type": "execute_result"
    }
   ],
   "source": [
    "d6"
   ]
  },
  {
   "cell_type": "code",
   "execution_count": 54,
   "id": "97249e8b-970d-40b0-92a1-b8c68ac216fa",
   "metadata": {},
   "outputs": [
    {
     "data": {
      "text/plain": [
       "['assig', 'launch_date', 'class_time', 'mentor']"
      ]
     },
     "execution_count": 54,
     "metadata": {},
     "output_type": "execute_result"
    }
   ],
   "source": [
    "list(d6.keys())"
   ]
  },
  {
   "cell_type": "code",
   "execution_count": 55,
   "id": "933fc37d-fcc5-45af-bd8d-9ddab2da238c",
   "metadata": {},
   "outputs": [
    {
     "data": {
      "text/plain": [
       "[[1, 2, 3, 4, 5, 6, 7],\n",
       " {12, 14, 28},\n",
       " {'web_dev': 8,\n",
       "  'data science master': 8,\n",
       "  'java with dst and system design ': 7},\n",
       " ['saqib', 'javid']]"
      ]
     },
     "execution_count": 55,
     "metadata": {},
     "output_type": "execute_result"
    }
   ],
   "source": [
    "list(d6.values())"
   ]
  },
  {
   "cell_type": "code",
   "execution_count": 56,
   "id": "8fb53283-96f4-44b1-8680-4d206ff2e9c9",
   "metadata": {},
   "outputs": [
    {
     "data": {
      "text/plain": [
       "dict_items([('assig', [1, 2, 3, 4, 5, 6, 7]), ('launch_date', {28, 12, 14}), ('class_time', {'web_dev': 8, 'data science master': 8, 'java with dst and system design ': 7}), ('mentor', ['saqib', 'javid'])])"
      ]
     },
     "execution_count": 56,
     "metadata": {},
     "output_type": "execute_result"
    }
   ],
   "source": [
    "d6.items()"
   ]
  },
  {
   "cell_type": "code",
   "execution_count": 57,
   "id": "ec1d000c-a1d2-4f2f-b04c-817cd9a8a9cb",
   "metadata": {},
   "outputs": [
    {
     "data": {
      "text/plain": [
       "[('assig', [1, 2, 3, 4, 5, 6, 7]),\n",
       " ('launch_date', {12, 14, 28}),\n",
       " ('class_time',\n",
       "  {'web_dev': 8,\n",
       "   'data science master': 8,\n",
       "   'java with dst and system design ': 7}),\n",
       " ('mentor', ['saqib', 'javid'])]"
      ]
     },
     "execution_count": 57,
     "metadata": {},
     "output_type": "execute_result"
    }
   ],
   "source": [
    "list(d6.items())"
   ]
  },
  {
   "cell_type": "code",
   "execution_count": 58,
   "id": "68882919-b02a-4b9c-9b62-38031f841d51",
   "metadata": {},
   "outputs": [
    {
     "data": {
      "text/plain": [
       "[1, 2, 3, 4, 5, 6, 7]"
      ]
     },
     "execution_count": 58,
     "metadata": {},
     "output_type": "execute_result"
    }
   ],
   "source": [
    "d6.pop('assig')"
   ]
  },
  {
   "cell_type": "code",
   "execution_count": 59,
   "id": "47ef7e18-310a-4859-99fb-cdd15dffc256",
   "metadata": {},
   "outputs": [
    {
     "data": {
      "text/plain": [
       "{'launch_date': {12, 14, 28},\n",
       " 'class_time': {'web_dev': 8,\n",
       "  'data science master': 8,\n",
       "  'java with dst and system design ': 7},\n",
       " 'mentor': ['saqib', 'javid']}"
      ]
     },
     "execution_count": 59,
     "metadata": {},
     "output_type": "execute_result"
    }
   ],
   "source": [
    "d6"
   ]
  },
  {
   "cell_type": "code",
   "execution_count": 73,
   "id": "339ce0b2-c394-4419-839d-710503239d13",
   "metadata": {},
   "outputs": [
    {
     "name": "stdin",
     "output_type": "stream",
     "text": [
      "enter your marks -4535\n"
     ]
    },
    {
     "name": "stdout",
     "output_type": "stream",
     "text": [
      "you will be the part of A3 batch\n"
     ]
    }
   ],
   "source": [
    "marks = int(input(\"enter your marks\"))\n",
    "if marks >= 80:\n",
    "    print(\"you will be a part of A batch\")\n",
    "elif marks >= 60 and marks <80:\n",
    "    print(\"you will be a part of A1 batch\")\n",
    "elif marks >= 40 and marks < 60:\n",
    "    print(\"you will be the part of A2 batch\")\n",
    "else :\n",
    "    print(\"you will be the part of A3 batch\")\n",
    "          "
   ]
  },
  {
   "cell_type": "code",
   "execution_count": 87,
   "id": "50d05c61-ebe3-48f1-a73f-01921a779542",
   "metadata": {},
   "outputs": [
    {
     "name": "stdin",
     "output_type": "stream",
     "text": [
      "enter price 1000\n"
     ]
    }
   ],
   "source": [
    "price = int(input(\"enter price\"))\n",
    "if price > 1000:\n",
    "    print(\"i will not purchase\")\n",
    "    if price >5000:\n",
    "        print(\"this is too much\")\n",
    "    elif price < 2000 :\n",
    "            print(\"it is ok\")\n",
    "elif price <1000:\n",
    "    print(\"i will purchase\")\n",
    "    elif :\n",
    "    print(\"i will purchase\")"
   ]
  },
  {
   "cell_type": "code",
   "execution_count": 88,
   "id": "91d3b618-af9c-4a09-99cb-e83e2fc20eb4",
   "metadata": {},
   "outputs": [],
   "source": [
    "l = [1,2,3,4,5,6,7,8]"
   ]
  },
  {
   "cell_type": "code",
   "execution_count": 91,
   "id": "ab07c7a9-cc49-4dcd-ab19-62384fbc2ac2",
   "metadata": {},
   "outputs": [
    {
     "data": {
      "text/plain": [
       "2"
      ]
     },
     "execution_count": 91,
     "metadata": {},
     "output_type": "execute_result"
    }
   ],
   "source": [
    "l[0]+1"
   ]
  },
  {
   "cell_type": "code",
   "execution_count": 96,
   "id": "3b138db7-f9c5-4792-a0f6-e2b9f23a0a16",
   "metadata": {},
   "outputs": [],
   "source": [
    "l1=[]"
   ]
  },
  {
   "cell_type": "code",
   "execution_count": 98,
   "id": "41d1db0c-94e6-41c1-bf36-e4ecafe4065e",
   "metadata": {},
   "outputs": [],
   "source": [
    "l1.append(l[0]+1)"
   ]
  },
  {
   "cell_type": "code",
   "execution_count": 100,
   "id": "af6f8494-44be-422f-800f-73dd4467b940",
   "metadata": {},
   "outputs": [
    {
     "data": {
      "text/plain": [
       "[1, 2, 3, 4, 5, 6, 7, 8]"
      ]
     },
     "execution_count": 100,
     "metadata": {},
     "output_type": "execute_result"
    }
   ],
   "source": [
    "l"
   ]
  },
  {
   "cell_type": "code",
   "execution_count": 104,
   "id": "8fb560cd-9ecc-4b55-9523-813e565beb28",
   "metadata": {},
   "outputs": [
    {
     "name": "stdout",
     "output_type": "stream",
     "text": [
      "2\n",
      "3\n",
      "4\n",
      "5\n",
      "6\n",
      "7\n",
      "8\n",
      "9\n"
     ]
    }
   ],
   "source": [
    "l1=[]\n",
    "for i in l:\n",
    "    print(i+1)\n",
    "    l1.append(i+1)"
   ]
  },
  {
   "cell_type": "code",
   "execution_count": 105,
   "id": "a3e6905c-ddbf-4907-8840-1c7ea35164e9",
   "metadata": {},
   "outputs": [
    {
     "data": {
      "text/plain": [
       "[1, 2, 3, 4, 5, 6, 7, 8]"
      ]
     },
     "execution_count": 105,
     "metadata": {},
     "output_type": "execute_result"
    }
   ],
   "source": [
    "l"
   ]
  },
  {
   "cell_type": "code",
   "execution_count": 106,
   "id": "63d5d8ac-963b-452a-a114-948f40739289",
   "metadata": {},
   "outputs": [],
   "source": [
    "l = ['sidhu','kumar','pwskill','courss']"
   ]
  },
  {
   "cell_type": "code",
   "execution_count": 108,
   "id": "b215f686-6059-42d9-b773-dfe150b2231a",
   "metadata": {},
   "outputs": [
    {
     "name": "stdout",
     "output_type": "stream",
     "text": [
      "sidhu\n",
      "kumar\n",
      "pwskill\n",
      "courss\n"
     ]
    }
   ],
   "source": [
    "l1=[]\n",
    "for i in l:\n",
    "    print(i)\n",
    "    l1.append(i.upper())"
   ]
  },
  {
   "cell_type": "code",
   "execution_count": 109,
   "id": "c62d51f6-465c-45f9-80c4-ac5974512ce5",
   "metadata": {},
   "outputs": [
    {
     "data": {
      "text/plain": [
       "['SIDHU', 'KUMAR', 'PWSKILL', 'COURSS']"
      ]
     },
     "execution_count": 109,
     "metadata": {},
     "output_type": "execute_result"
    }
   ],
   "source": [
    "l1"
   ]
  },
  {
   "cell_type": "code",
   "execution_count": 111,
   "id": "f87273c5-5826-45af-b106-1563b0f9a331",
   "metadata": {},
   "outputs": [],
   "source": [
    "l=[1,2,3,4,\"sudh\",'kumar',345,34.344,\"abc\"]"
   ]
  },
  {
   "cell_type": "code",
   "execution_count": 112,
   "id": "b650a88a-322d-4a42-a630-28003c9e0fdd",
   "metadata": {},
   "outputs": [],
   "source": [
    "l1_num=[]\n",
    "l2_str=[]\n",
    "for i in l:\n",
    "    if type(i) == int or type(i) == float :\n",
    "        l1_num.append(i)\n",
    "    else:\n",
    "        l2_str.append(i)"
   ]
  },
  {
   "cell_type": "code",
   "execution_count": 113,
   "id": "c9fa59cc-f5ea-447e-8cc5-de42a59158fa",
   "metadata": {},
   "outputs": [
    {
     "data": {
      "text/plain": [
       "[1, 2, 3, 4, 345, 34.344]"
      ]
     },
     "execution_count": 113,
     "metadata": {},
     "output_type": "execute_result"
    }
   ],
   "source": [
    "l1_num"
   ]
  },
  {
   "cell_type": "code",
   "execution_count": 114,
   "id": "04977c04-d512-46f1-9ad9-11e2941ab93a",
   "metadata": {},
   "outputs": [
    {
     "data": {
      "text/plain": [
       "['sudh', 'kumar', 'abc']"
      ]
     },
     "execution_count": 114,
     "metadata": {},
     "output_type": "execute_result"
    }
   ],
   "source": [
    "l2_str"
   ]
  },
  {
   "cell_type": "code",
   "execution_count": 115,
   "id": "7fd9ac56-f84a-498b-9bb9-7de324ee1908",
   "metadata": {},
   "outputs": [
    {
     "ename": "NameError",
     "evalue": "name 'samples' is not defined",
     "output_type": "error",
     "traceback": [
      "\u001b[0;31m---------------------------------------------------------------------------\u001b[0m",
      "\u001b[0;31mNameError\u001b[0m                                 Traceback (most recent call last)",
      "Cell \u001b[0;32mIn[115], line 1\u001b[0m\n\u001b[0;32m----> 1\u001b[0m \u001b[38;5;241m100\u001b[39m \u001b[38;5;241m+\u001b[39m\u001b[43msamples\u001b[49m\n",
      "\u001b[0;31mNameError\u001b[0m: name 'samples' is not defined"
     ]
    }
   ],
   "source": []
  },
  {
   "cell_type": "code",
   "execution_count": null,
   "id": "92fc9bac-f650-482c-8ad0-70bae6ca59e0",
   "metadata": {},
   "outputs": [],
   "source": []
  }
 ],
 "metadata": {
  "kernelspec": {
   "display_name": "Python 3 (ipykernel)",
   "language": "python",
   "name": "python3"
  },
  "language_info": {
   "codemirror_mode": {
    "name": "ipython",
    "version": 3
   },
   "file_extension": ".py",
   "mimetype": "text/x-python",
   "name": "python",
   "nbconvert_exporter": "python",
   "pygments_lexer": "ipython3",
   "version": "3.10.8"
  }
 },
 "nbformat": 4,
 "nbformat_minor": 5
}
